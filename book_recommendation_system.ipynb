{
 "cells": [
  {
   "attachments": {},
   "cell_type": "markdown",
   "metadata": {},
   "source": [
    "## Book Recommender System using GoodReads Ratings\n",
    "\n",
    "This Jupyter notebook implements a book recommender system using ratings data from Goodreads, a popular online platform for book enthusiasts."
   ]
  },
  {
   "cell_type": "code",
   "execution_count": 19,
   "metadata": {},
   "outputs": [],
   "source": [
    "import os\n",
    "import json\n",
    "import pandas as pd\n",
    "import matplotlib.pyplot as plt\n",
    "\n",
    "import torch\n",
    "import torch.nn as nn\n",
    "\n",
    "import data\n",
    "\n",
    "from IPython.display import Markdown"
   ]
  },
  {
   "cell_type": "code",
   "execution_count": 20,
   "metadata": {},
   "outputs": [],
   "source": [
    "# configurable parameters, change as needed\n",
    "\n",
    "# set to true if loading existing model file, false if training a new model\n",
    "skip_training = True\n",
    "explicit = False\n",
    "data_dir = 'data'\n",
    "model_save_path = 'models/goodreads_recsys.pth'\n",
    "\n",
    "pd.options.display.max_rows = None"
   ]
  },
  {
   "cell_type": "code",
   "execution_count": 21,
   "metadata": {},
   "outputs": [],
   "source": [
    "# create dirs if not existing\n",
    "os.makedirs(data_dir, exist_ok=True)\n",
    "os.makedirs('models', exist_ok=True)\n",
    "os.makedirs('logs', exist_ok=True)"
   ]
  },
  {
   "cell_type": "code",
   "execution_count": 22,
   "metadata": {},
   "outputs": [
    {
     "name": "stdout",
     "output_type": "stream",
     "text": [
      "Using device type: cpu\n"
     ]
    }
   ],
   "source": [
    "# additional settings, automatically selects cuda if available\n",
    "if skip_training:\n",
    "    device_type = 'cpu'\n",
    "elif torch.cuda.is_available():\n",
    "    device_type = 'cuda:0'\n",
    "else:\n",
    "    device_type = 'cpu'\n",
    "\n",
    "# set manually if needed e.g. device_type = 'cpu'\n",
    "print(\"Using device type:\", device_type)\n",
    "device = torch.device(device_type)"
   ]
  },
  {
   "cell_type": "code",
   "execution_count": 23,
   "metadata": {},
   "outputs": [
    {
     "name": "stdout",
     "output_type": "stream",
     "text": [
      "Dataset: train, User count: 6769, Book count: 92034, Ratings count: 966946\n",
      "Dataset: test, User count: 6376, Book count: 79997, Ratings count: 288004\n"
     ]
    }
   ],
   "source": [
    "trainset = data.GoodReadsRatingsDataset(root=data_dir, mode='train', explicit=explicit)\n",
    "testset = data.GoodReadsRatingsDataset(root=data_dir, mode='test', explicit=explicit)"
   ]
  },
  {
   "cell_type": "code",
   "execution_count": 24,
   "metadata": {},
   "outputs": [],
   "source": [
    "trainloader = torch.utils.data.DataLoader(trainset, batch_size=1024, shuffle=True)\n",
    "testloader = torch.utils.data.DataLoader(testset, batch_size=128, shuffle=False)"
   ]
  },
  {
   "cell_type": "code",
   "execution_count": 25,
   "metadata": {},
   "outputs": [],
   "source": [
    "class RecommenderSystem(nn.Module):\n",
    "    def __init__(self, n_users, n_items):\n",
    "        \"\"\"\n",
    "        Args:\n",
    "          n_users: Number of users.\n",
    "          n_items: Number of items.\n",
    "        \"\"\"\n",
    "        super(RecommenderSystem, self).__init__()\n",
    "\n",
    "        self.user_em = nn.Embedding(n_users, 100)\n",
    "        self.item_em = nn.Embedding(n_items, 100)\n",
    "        self.drop0 = nn.Dropout(0.02)\n",
    "        \n",
    "        self.fc1 = nn.Linear(200, 100)\n",
    "        self.relu1 = nn.ReLU()\n",
    "        self.drop1 = nn.Dropout(0.02)\n",
    "        \n",
    "        self.fc2 = nn.Linear(100, 10)\n",
    "        self.relu2 = nn.ReLU()\n",
    "        self.drop2 = nn.Dropout(0.02)\n",
    "        \n",
    "        self.fc3 = nn.Linear(10, 1)\n",
    "        \n",
    "    def forward(self, user_ids, item_ids):\n",
    "        \"\"\"\n",
    "        Args:\n",
    "          user_ids of shape (batch_size): User ids (starting from 0).\n",
    "          item_ids of shape (batch_size): Item ids (starting from 0).\n",
    "        \n",
    "        Returns:\n",
    "          outputs of shape (batch_size): Predictions of ratings.\n",
    "        \"\"\"\n",
    "        x = torch.cat([self.user_em(user_ids), self.item_em(item_ids)], dim=1)\n",
    "        x = self.drop0(x)\n",
    "\n",
    "        x = self.fc1(x)\n",
    "        x = self.relu1(x)\n",
    "        x = self.drop1(x)\n",
    "\n",
    "        x = self.fc2(x)\n",
    "        x = self.relu2(x)\n",
    "        x = self.drop2(x)\n",
    "\n",
    "        x = torch.sigmoid(self.fc3(x))\n",
    "        # min_rating, max_rating = (0.5, 5.5)\n",
    "        # x = x*(max_rating - min_rating) + min_rating\n",
    "        x = x.view(-1)\n",
    "        \n",
    "        return x"
   ]
  },
  {
   "cell_type": "code",
   "execution_count": 26,
   "metadata": {},
   "outputs": [
    {
     "data": {
      "text/plain": [
       "RecommenderSystem(\n",
       "  (user_em): Embedding(6769, 20)\n",
       "  (item_em): Embedding(92034, 100)\n",
       "  (drop0): Dropout(p=0.02, inplace=False)\n",
       "  (fc1): Linear(in_features=120, out_features=100, bias=True)\n",
       "  (relu1): ReLU()\n",
       "  (drop1): Dropout(p=0.02, inplace=False)\n",
       "  (fc2): Linear(in_features=100, out_features=10, bias=True)\n",
       "  (relu2): ReLU()\n",
       "  (drop2): Dropout(p=0.02, inplace=False)\n",
       "  (fc3): Linear(in_features=10, out_features=1, bias=True)\n",
       ")"
      ]
     },
     "execution_count": 26,
     "metadata": {},
     "output_type": "execute_result"
    }
   ],
   "source": [
    "model = RecommenderSystem(trainset.n_users, trainset.n_items)\n",
    "model.to(device)"
   ]
  },
  {
   "cell_type": "code",
   "execution_count": 27,
   "metadata": {},
   "outputs": [],
   "source": [
    "# computes the loss:\n",
    "def compute_loss(model, testloader):\n",
    "    model.eval()\n",
    "    cost = nn.MSELoss()\n",
    "    total_loss = 0\n",
    "    total_data = 0\n",
    "    prediction_list = []\n",
    "\n",
    "    with torch.no_grad():\n",
    "        for user_ids, item_ids, labels in testloader:\n",
    "            user_ids, item_ids, labels = user_ids.to(device), item_ids.to(device), labels.to(device)\n",
    "            predictions = model(user_ids, item_ids)\n",
    "            prediction_list.append(predictions.cpu())\n",
    "\n",
    "            loss = cost(predictions, labels)\n",
    "            total_loss += (loss.item() * labels.size(0))\n",
    "            total_data += labels.size(0)\n",
    "\n",
    "    loss = total_loss / total_data\n",
    "    return torch.cat(prediction_list), loss"
   ]
  },
  {
   "cell_type": "code",
   "execution_count": 28,
   "metadata": {},
   "outputs": [],
   "source": [
    "# training loop\n",
    "if not skip_training:\n",
    "    optimizer = torch.optim.Adam(model.parameters(), lr=0.001, weight_decay=0.001)\n",
    "    cost = nn.MSELoss()\n",
    "    total_loss = 0\n",
    "    total_data = 0\n",
    "\n",
    "    # save historical losses and accs\n",
    "    hist_metrics = dict()\n",
    "    hist_metrics['epoch'] = []\n",
    "    hist_metrics['train_loss'] = []\n",
    "    hist_metrics['test_loss'] = []\n",
    "\n",
    "    epochs = 20\n",
    "    for epoch in range(epochs):\n",
    "        model.train()\n",
    "        for user_ids, item_ids, labels in trainloader:  \n",
    "            user_ids, item_ids, labels = user_ids.to(device), item_ids.to(device), labels.to(device)\n",
    "\n",
    "            optimizer.zero_grad()\n",
    "            predictions = model(user_ids, item_ids)\n",
    "\n",
    "            loss = cost(predictions, labels)\n",
    "            total_loss += (loss.item() * labels.size(0))\n",
    "            total_data += labels.size(0)\n",
    "            loss.backward()\n",
    "            optimizer.step()\n",
    "\n",
    "        train_loss = total_loss / total_data\n",
    "        _, test_loss = compute_loss(model, testloader)\n",
    "\n",
    "        hist_metrics['epoch'].append(epoch)\n",
    "        hist_metrics['train_loss'].append(train_loss)\n",
    "        hist_metrics['test_loss'].append(test_loss)\n",
    "\n",
    "        print('Epoch {}: Train error: {:.4f}, Test error: {:.4f}'.format(epoch, train_loss, test_loss))"
   ]
  },
  {
   "cell_type": "code",
   "execution_count": 29,
   "metadata": {},
   "outputs": [],
   "source": [
    "# plot and save historical train/test loss\n",
    "def plot_metrics(metrics, save_path='logs/goodreads_recsys_{}.{}'):\n",
    "    plt.plot(metrics['train_loss'])\n",
    "    plt.plot(metrics['test_loss'])\n",
    "    plt.ylabel(\"loss\")\n",
    "    plt.xlabel(\"epochs\")\n",
    "    plt.legend(['train', 'test'], loc='upper left')\n",
    "    plt.savefig(save_path.format('loss', \"png\"))\n",
    "    plt.show()\n",
    "\n",
    "    with open(save_path.format(\"hist\", \"json\"), 'w') as f:\n",
    "        json.dump(metrics, f)"
   ]
  },
  {
   "cell_type": "code",
   "execution_count": 30,
   "metadata": {},
   "outputs": [],
   "source": [
    "# save trained model\n",
    "if not skip_training:\n",
    "    torch.save(model.state_dict(), model_save_path)\n",
    "    plot_metrics(hist_metrics)"
   ]
  },
  {
   "cell_type": "code",
   "execution_count": 31,
   "metadata": {},
   "outputs": [
    {
     "name": "stdout",
     "output_type": "stream",
     "text": [
      "Model loaded from: models/goodreads_recsys.pth\n"
     ]
    }
   ],
   "source": [
    "if skip_training:\n",
    "    model = RecommenderSystem(trainset.n_users, trainset.n_items)\n",
    "    model.load_state_dict(torch.load(model_save_path, map_location=lambda storage, loc: storage))\n",
    "    print('Model loaded from: {}'.format(model_save_path))\n",
    "    model.to(device)\n",
    "    model.eval()"
   ]
  },
  {
   "cell_type": "code",
   "execution_count": 32,
   "metadata": {},
   "outputs": [
    {
     "name": "stdout",
     "output_type": "stream",
     "text": [
      "Test loss: 0.1810\n"
     ]
    }
   ],
   "source": [
    "predictions, loss = compute_loss(model, testloader)\n",
    "print('Test loss: {:.4f}'.format(loss))"
   ]
  },
  {
   "cell_type": "code",
   "execution_count": 33,
   "metadata": {},
   "outputs": [],
   "source": [
    "book_titles_df = pd.read_csv(os.path.join(data_dir, 'book_titles.csv'), header=0)\n",
    "book_titles_df.set_index('encoded_book_id', inplace=True)"
   ]
  },
  {
   "cell_type": "code",
   "execution_count": 34,
   "metadata": {},
   "outputs": [
    {
     "name": "stdout",
     "output_type": "stream",
     "text": [
      "top 50% hit rate: 0.7229639291763306\n",
      "top 10 hit rate: 0.7837969064712524\n",
      "top 1 hit rate: 0.8602572083473206\n"
     ]
    }
   ],
   "source": [
    "next_user_i = 0\n",
    "top_half_hit = 0\n",
    "top10_hit = 0\n",
    "top01_hit = 0\n",
    "count = 0\n",
    "\n",
    "while next_user_i < len(testset):\n",
    "    user_id = testset[next_user_i][0]\n",
    "    last_user_i = next_user_i\n",
    "    while next_user_i < len(testset) and testset[next_user_i][0] == user_id:\n",
    "        next_user_i += 1\n",
    "    indices = range(last_user_i, next_user_i)\n",
    "\n",
    "    labels = testset[indices][2]\n",
    "    _, top_reco = torch.topk(predictions[indices], k=int(len(indices)/2))\n",
    "    top_half_hit += labels[top_reco].sum()/int(len(indices)/2)\n",
    "\n",
    "    _, top_reco = torch.topk(predictions[indices], k=min(int(len(indices)/2), 10))\n",
    "    top10_hit += labels[top_reco].sum()/min(int(len(indices)/2), 10)\n",
    "\n",
    "    _, top_reco = torch.topk(predictions[indices], k=1)\n",
    "    top01_hit += labels[top_reco].sum()\n",
    "\n",
    "    count += 1\n",
    "\n",
    "\n",
    "top_half_hit = top_half_hit / count\n",
    "print(\"top 50% hit rate:\", top_half_hit.item())\n",
    "top10_hit = top10_hit / count\n",
    "print(\"top 10 hit rate:\", top10_hit.item())\n",
    "top01_hit = top01_hit / count\n",
    "print(\"top 1 hit rate:\", top01_hit.item())"
   ]
  },
  {
   "cell_type": "code",
   "execution_count": 46,
   "metadata": {},
   "outputs": [
    {
     "name": "stdout",
     "output_type": "stream",
     "text": [
      "Showing (sample) books from user_enc_id=5\n",
      "67.95% of the books have been correctly recommended\n",
      "45.26% of the books from read have been correctly recommended\n"
     ]
    },
    {
     "data": {
      "text/markdown": [
       "|   encoded_book_id |   book_id | title                                                        | read?                                   | recommend?                              | correctly recommended?                  |\n",
       "|------------------:|----------:|:-------------------------------------------------------------|:----------------------------------------|:----------------------------------------|:----------------------------------------|\n",
       "|             82742 |  23766634 | A Court of Wings and Ruin (A Court of Thorns and Roses, #3)  | <span style=\"color: #00ff00\">yes</span> | <span style=\"color: #ff0000\">no</span>  | <span style=\"color: #ff0000\">no</span>  |\n",
       "|             76497 |  22055262 | A Darker Shade of Magic (Shades of Magic, #1)                | <span style=\"color: #00ff00\">yes</span> | <span style=\"color: #00ff00\">yes</span> | <span style=\"color: #00ff00\">yes</span> |\n",
       "|             72746 |  20560137 | An Ember in the Ashes (An Ember in the Ashes, #1)            | <span style=\"color: #00ff00\">yes</span> | <span style=\"color: #00ff00\">yes</span> | <span style=\"color: #00ff00\">yes</span> |\n",
       "|             86775 |  25614934 | Arcadia                                                      | <span style=\"color: #00ff00\">yes</span> | <span style=\"color: #ff0000\">no</span>  | <span style=\"color: #ff0000\">no</span>  |\n",
       "|             29927 |   7326784 | Black Bird, Vol. 05 (Black Bird, #5)                         | <span style=\"color: #00ff00\">yes</span> | <span style=\"color: #00ff00\">yes</span> | <span style=\"color: #00ff00\">yes</span> |\n",
       "|             44130 |  12803252 | Black Bird, Vol. 14 (Black Bird, #14)                        | <span style=\"color: #00ff00\">yes</span> | <span style=\"color: #ff0000\">no</span>  | <span style=\"color: #ff0000\">no</span>  |\n",
       "|             87560 |  25852870 | Eligible (The Austen Project, #4)                            | <span style=\"color: #00ff00\">yes</span> | <span style=\"color: #00ff00\">yes</span> | <span style=\"color: #00ff00\">yes</span> |\n",
       "|             77730 |  22489107 | Fairest (The Lunar Chronicles, #3.5)                         | <span style=\"color: #00ff00\">yes</span> | <span style=\"color: #00ff00\">yes</span> | <span style=\"color: #00ff00\">yes</span> |\n",
       "|              2870 |     68488 | Fool's Errand (Tawny Man, #1)                                | <span style=\"color: #00ff00\">yes</span> | <span style=\"color: #00ff00\">yes</span> | <span style=\"color: #00ff00\">yes</span> |\n",
       "|             75491 |  21851568 | Hidden Huntress (The Malediction Trilogy, #2)                | <span style=\"color: #00ff00\">yes</span> | <span style=\"color: #ff0000\">no</span>  | <span style=\"color: #ff0000\">no</span>  |\n",
       "|             64489 |  18089930 | Innocent Blood (The Order of the Sanguines, #2)              | <span style=\"color: #00ff00\">yes</span> | <span style=\"color: #ff0000\">no</span>  | <span style=\"color: #ff0000\">no</span>  |\n",
       "|             52538 |  15790883 | Promise of Blood (Powder Mage, #1)                           | <span style=\"color: #00ff00\">yes</span> | <span style=\"color: #00ff00\">yes</span> | <span style=\"color: #00ff00\">yes</span> |\n",
       "|             59308 |  17331819 | Reawakened (Reawakened, #1)                                  | <span style=\"color: #00ff00\">yes</span> | <span style=\"color: #ff0000\">no</span>  | <span style=\"color: #ff0000\">no</span>  |\n",
       "|             90459 |  28818314 | RoseBlood                                                    | <span style=\"color: #00ff00\">yes</span> | <span style=\"color: #ff0000\">no</span>  | <span style=\"color: #ff0000\">no</span>  |\n",
       "|             35335 |   9466068 | Silk Is for Seduction (The Dressmakers, #1)                  | <span style=\"color: #00ff00\">yes</span> | <span style=\"color: #00ff00\">yes</span> | <span style=\"color: #00ff00\">yes</span> |\n",
       "|             81484 |  23437156 | Six of Crows (Six of Crows, #1)                              | <span style=\"color: #00ff00\">yes</span> | <span style=\"color: #00ff00\">yes</span> | <span style=\"color: #00ff00\">yes</span> |\n",
       "|             64710 |  18114110 | Sword of the North (Grim Company, #2)                        | <span style=\"color: #00ff00\">yes</span> | <span style=\"color: #ff0000\">no</span>  | <span style=\"color: #ff0000\">no</span>  |\n",
       "|             30144 |   7455727 | Tails of Wonder and Imagination                              | <span style=\"color: #00ff00\">yes</span> | <span style=\"color: #ff0000\">no</span>  | <span style=\"color: #ff0000\">no</span>  |\n",
       "|             53878 |  15985344 | The City                                                     | <span style=\"color: #00ff00\">yes</span> | <span style=\"color: #ff0000\">no</span>  | <span style=\"color: #ff0000\">no</span>  |\n",
       "|             63787 |  18004320 | The Last Ever After (The School for Good and Evil, #3)       | <span style=\"color: #00ff00\">yes</span> | <span style=\"color: #ff0000\">no</span>  | <span style=\"color: #ff0000\">no</span>  |\n",
       "|             35520 |   9532302 | The Last Werewolf (The Last Werewolf, #1)                    | <span style=\"color: #00ff00\">yes</span> | <span style=\"color: #00ff00\">yes</span> | <span style=\"color: #00ff00\">yes</span> |\n",
       "|             34131 |   8709528 | The Ruby Circle (Bloodlines, #6)                             | <span style=\"color: #00ff00\">yes</span> | <span style=\"color: #00ff00\">yes</span> | <span style=\"color: #00ff00\">yes</span> |\n",
       "|             81535 |  23444482 | The Traitor Baru Cormorant (Baru Cormorant #1)               | <span style=\"color: #00ff00\">yes</span> | <span style=\"color: #ff0000\">no</span>  | <span style=\"color: #ff0000\">no</span>  |\n",
       "|             38016 |  10425771 | The Twelfth Enchantment                                      | <span style=\"color: #00ff00\">yes</span> | <span style=\"color: #ff0000\">no</span>  | <span style=\"color: #ff0000\">no</span>  |\n",
       "|             83878 |  24585267 | The White Rose (The Lone City, #2)                           | <span style=\"color: #00ff00\">yes</span> | <span style=\"color: #ff0000\">no</span>  | <span style=\"color: #ff0000\">no</span>  |\n",
       "|              4544 |    138473 | Tsubasa: RESERVoir CHRoNiCLE, Vol. 15                        | <span style=\"color: #00ff00\">yes</span> | <span style=\"color: #ff0000\">no</span>  | <span style=\"color: #ff0000\">no</span>  |\n",
       "|             47718 |  13500978 | Call Me Wild (Wild Thing #2)                                 | <span style=\"color: #ff0000\">no</span>  | <span style=\"color: #ff0000\">no</span>  | <span style=\"color: #00ff00\">yes</span> |\n",
       "|              7580 |    323253 | Gabe (Buckhorn Brothers, #3)                                 | <span style=\"color: #ff0000\">no</span>  | <span style=\"color: #ff0000\">no</span>  | <span style=\"color: #00ff00\">yes</span> |\n",
       "|             24401 |   5941383 | Girlfriend Material                                          | <span style=\"color: #ff0000\">no</span>  | <span style=\"color: #ff0000\">no</span>  | <span style=\"color: #00ff00\">yes</span> |\n",
       "|             16336 |   1214613 | Listen to Your Heart                                         | <span style=\"color: #ff0000\">no</span>  | <span style=\"color: #ff0000\">no</span>  | <span style=\"color: #00ff00\">yes</span> |\n",
       "|             74789 |  21461416 | My Little Soldiers                                           | <span style=\"color: #ff0000\">no</span>  | <span style=\"color: #ff0000\">no</span>  | <span style=\"color: #00ff00\">yes</span> |\n",
       "|             45936 |  13182417 | Sakura Hime: The Legend of Princess Sakura, Vol. 9           | <span style=\"color: #ff0000\">no</span>  | <span style=\"color: #ff0000\">no</span>  | <span style=\"color: #00ff00\">yes</span> |\n",
       "|             44676 |  12958873 | Sparks (Something in Common, #2)                             | <span style=\"color: #ff0000\">no</span>  | <span style=\"color: #ff0000\">no</span>  | <span style=\"color: #00ff00\">yes</span> |\n",
       "|             21473 |   2919954 | Swan Song                                                    | <span style=\"color: #ff0000\">no</span>  | <span style=\"color: #ff0000\">no</span>  | <span style=\"color: #00ff00\">yes</span> |\n",
       "|              8292 |    370897 | The Gods of Riverworld (Riverworld, #5)                      | <span style=\"color: #ff0000\">no</span>  | <span style=\"color: #ff0000\">no</span>  | <span style=\"color: #00ff00\">yes</span> |\n",
       "|             60766 |  17571908 | The Redhead Plays Her Hand (Redhead, #3)                     | <span style=\"color: #ff0000\">no</span>  | <span style=\"color: #00ff00\">yes</span> | <span style=\"color: #ff0000\">no</span>  |\n",
       "|             13312 |    811191 | The Secret Life of Sparrow Delaney                           | <span style=\"color: #ff0000\">no</span>  | <span style=\"color: #ff0000\">no</span>  | <span style=\"color: #00ff00\">yes</span> |\n",
       "|             26528 |   6436047 | Tooth and Claw                                               | <span style=\"color: #ff0000\">no</span>  | <span style=\"color: #ff0000\">no</span>  | <span style=\"color: #00ff00\">yes</span> |\n",
       "|              4018 |    114123 | Valley of Silence (Circle trilogy #3)                        | <span style=\"color: #ff0000\">no</span>  | <span style=\"color: #ff0000\">no</span>  | <span style=\"color: #00ff00\">yes</span> |\n",
       "|             87711 |  25910177 | You Only Live Nine Times (Supernatural Enforcers Agency, #3) | <span style=\"color: #ff0000\">no</span>  | <span style=\"color: #ff0000\">no</span>  | <span style=\"color: #00ff00\">yes</span> |"
      ],
      "text/plain": [
       "<IPython.core.display.Markdown object>"
      ]
     },
     "metadata": {},
     "output_type": "display_data"
    }
   ],
   "source": [
    "indices = testset.get_user_record(random=False, user_id=5)\n",
    "sampleset = torch.utils.data.Subset(testset, indices)\n",
    "sampleloader = torch.utils.data.DataLoader(sampleset, batch_size=len(indices), shuffle=False)\n",
    "\n",
    "if explicit:\n",
    "    max_range = 5.0\n",
    "else:\n",
    "    max_range = 1.0\n",
    "\n",
    "with torch.no_grad():\n",
    "    for user_ids, item_ids, labels in sampleloader:\n",
    "        print(\"Showing (sample) books from user_enc_id={}\".format(user_ids[0]))\n",
    "        user_ids, item_ids, labels = user_ids.to(device), item_ids.to(device), labels.to(device)\n",
    "        predictions = model(user_ids, item_ids)\n",
    "\n",
    "        tmp_df = book_titles_df.loc[item_ids.cpu()]\n",
    "        tmp_df['actual_ratings'] = labels.cpu() * max_range\n",
    "        tmp_df['predicted_ratings'] = predictions.cpu().round(decimals=2) * max_range\n",
    "        tmp_df['correct'] = (tmp_df['predicted_ratings'].round() == tmp_df['actual_ratings'])\n",
    "        \n",
    "        # display title of correct predictions as green\n",
    "        # tmp_df.loc[tmp_df['correct'], 'title'] = '<span style=\"color: #00ff00\">' + tmp_df.loc[tmp_df['correct'], 'title'] + '</span>'\n",
    "        # display title of correct predictions as red\n",
    "        # tmp_df.loc[~tmp_df['correct'], 'title'] = '<span style=\"color: #ff0000\">' + tmp_df.loc[~tmp_df['correct'], 'title'] + '</span>'\n",
    "        \n",
    "        tmp_df['read?'] = '<span style=\"color: #ff0000\">no</span>'\n",
    "        tmp_df.loc[tmp_df['actual_ratings'] == 1, 'read?'] = '<span style=\"color: #00ff00\">yes</span>'\n",
    "        \n",
    "        tmp_df['recommend?'] = '<span style=\"color: #ff0000\">no</span>'\n",
    "        tmp_df.loc[tmp_df['predicted_ratings'] >= 0.5, 'recommend?'] = '<span style=\"color: #00ff00\">yes</span>'\n",
    "\n",
    "        tmp_df['correctly recommended?'] = '<span style=\"color: #ff0000\">no</span>'\n",
    "        tmp_df.loc[tmp_df['correct'] == 1, 'correctly recommended?'] = '<span style=\"color: #00ff00\">yes</span>'\n",
    "\n",
    "        print(\"{:.2f}% of the books have been correctly recommended\".format(tmp_df['correct'].sum() / len(tmp_df['correct']) * 100))\n",
    "        print(\"{:.2f}% of the books from read have been correctly recommended\".format(tmp_df.loc[tmp_df['actual_ratings'] == 1, 'correct'].sum() / tmp_df['actual_ratings'].sum() * 100))\n",
    "\n",
    "        tmp_df = tmp_df.sample(n=min(len(tmp_df.index), 40))\n",
    "        tmp_df.sort_values(by=['actual_ratings', 'title'], ascending=[False, True], inplace=True)\n",
    "        display(Markdown(tmp_df[['book_id', 'title', 'read?', 'recommend?', 'correctly recommended?']].to_markdown()))"
   ]
  },
  {
   "cell_type": "code",
   "execution_count": 55,
   "metadata": {},
   "outputs": [
    {
     "name": "stdout",
     "output_type": "stream",
     "text": [
      "tensor(5)\n"
     ]
    },
    {
     "data": {
      "text/markdown": [
       "|   encoded_book_id | title                                                                       |   predicted_ratings | read?                                  |\n",
       "|------------------:|:----------------------------------------------------------------------------|--------------------:|:---------------------------------------|\n",
       "|                 2 | Harry Potter and the Sorcerer's Stone (Harry Potter, #1)                    |                0.95 | <span style=\"color: #ff0000\">no</span> |\n",
       "|                 4 | Harry Potter and the Goblet of Fire (Harry Potter, #4)                      |                0.95 | <span style=\"color: #ff0000\">no</span> |\n",
       "|               728 | Harry Potter and the Chamber of Secrets (Harry Potter, #2)                  |                0.95 | <span style=\"color: #ff0000\">no</span> |\n",
       "|                 0 | Harry Potter and the Half-Blood Prince (Harry Potter, #6)                   |                0.94 | <span style=\"color: #ff0000\">no</span> |\n",
       "|              4516 | Harry Potter and the Deathly Hallows (Harry Potter, #7)                     |                0.94 | <span style=\"color: #ff0000\">no</span> |\n",
       "|                18 | The Fellowship of the Ring (The Lord of the Rings, #1)                      |                0.93 | <span style=\"color: #ff0000\">no</span> |\n",
       "|                 1 | Harry Potter and the Order of the Phoenix (Harry Potter, #5)                |                0.93 | <span style=\"color: #ff0000\">no</span> |\n",
       "|                57 | Pride and Prejudice                                                         |                0.93 | <span style=\"color: #ff0000\">no</span> |\n",
       "|               438 | A Game of Thrones (A Song of Ice and Fire, #1)                              |                0.93 | <span style=\"color: #ff0000\">no</span> |\n",
       "|              1165 | The Lightning Thief (Percy Jackson and the Olympians, #1)                   |                0.92 | <span style=\"color: #ff0000\">no</span> |\n",
       "|              5298 | The Name of the Wind (The Kingkiller Chronicle, #1)                         |                0.92 | <span style=\"color: #ff0000\">no</span> |\n",
       "|             24562 | Blood Promise (Vampire Academy, #4)                                         |                0.92 | <span style=\"color: #ff0000\">no</span> |\n",
       "|               160 | The Hobbit                                                                  |                0.92 | <span style=\"color: #ff0000\">no</span> |\n",
       "|               634 | The Two Towers (The Lord of the Rings, #2)                                  |                0.92 | <span style=\"color: #ff0000\">no</span> |\n",
       "|               602 | Neverwhere                                                                  |                0.92 | <span style=\"color: #ff0000\">no</span> |\n",
       "|               843 | The Return of the King (The Lord of the Rings, #3)                          |                0.92 | <span style=\"color: #ff0000\">no</span> |\n",
       "|                 8 | The Hitchhiker's Guide to the Galaxy (Hitchhiker's Guide to the Galaxy, #1) |                0.92 | <span style=\"color: #ff0000\">no</span> |\n",
       "|              3697 | The Lion, the Witch, and the Wardrobe (Chronicles of Narnia, #1)            |                0.92 | <span style=\"color: #ff0000\">no</span> |\n",
       "|              1943 | Lover Revealed (Black Dagger Brotherhood, #4)                               |                0.91 | <span style=\"color: #ff0000\">no</span> |\n",
       "|              1164 | The Sea of Monsters (Percy Jackson and the Olympians, #2)                   |                0.91 | <span style=\"color: #ff0000\">no</span> |\n",
       "|             23372 | The Last Olympian (Percy Jackson and the Olympians, #5)                     |                0.91 | <span style=\"color: #ff0000\">no</span> |\n",
       "|             23798 | Lover Avenged (Black Dagger Brotherhood, #7)                                |                0.91 | <span style=\"color: #ff0000\">no</span> |\n",
       "|              2857 | The Well of Ascension (Mistborn, #2)                                        |                0.91 | <span style=\"color: #ff0000\">no</span> |\n",
       "|             24232 | Along for the Ride                                                          |                0.91 | <span style=\"color: #ff0000\">no</span> |\n",
       "|             46612 | Opal (Lux, #3)                                                              |                0.91 | <span style=\"color: #ff0000\">no</span> |\n",
       "|              4562 | Dead to the World (Sookie Stackhouse, #4)                                   |                0.91 | <span style=\"color: #ff0000\">no</span> |\n",
       "|              2856 | The Final Empire (Mistborn, #1)                                             |                0.91 | <span style=\"color: #ff0000\">no</span> |\n",
       "|             29535 | Clockwork Angel (The Infernal Devices, #1)                                  |                0.91 | <span style=\"color: #ff0000\">no</span> |\n",
       "|              1944 | Dark Lover (Black Dagger Brotherhood, #1)                                   |                0.91 | <span style=\"color: #ff0000\">no</span> |\n",
       "|              2668 | A Storm of Swords (A Song of Ice and Fire, #3)                              |                0.91 | <span style=\"color: #ff0000\">no</span> |\n",
       "|             38583 | A Dance with Dragons (A Song of Ice and Fire, #5)                           |                0.91 | <span style=\"color: #ff0000\">no</span> |\n",
       "|              3945 | Living Dead in Dallas (Sookie Stackhouse, #2)                               |                0.91 | <span style=\"color: #ff0000\">no</span> |\n",
       "|              2031 | Mansfield Park                                                              |                0.91 | <span style=\"color: #ff0000\">no</span> |\n",
       "|              1700 | Lover Eternal (Black Dagger Brotherhood, #2)                                |                0.91 | <span style=\"color: #ff0000\">no</span> |\n",
       "|              1960 | Interview with the Vampire (The Vampire Chronicles, #1)                     |                0.91 | <span style=\"color: #ff0000\">no</span> |\n",
       "|              4267 | Prince Caspian (Chronicles of Narnia, #2)                                   |                0.91 | <span style=\"color: #ff0000\">no</span> |\n",
       "|               933 | The Princess Bride                                                          |                0.91 | <span style=\"color: #ff0000\">no</span> |\n",
       "|             26772 | Spirit Bound (Vampire Academy, #5)                                          |                0.91 | <span style=\"color: #ff0000\">no</span> |\n",
       "|              1945 | Lover Awakened (Black Dagger Brotherhood, #3)                               |                0.91 | <span style=\"color: #ff0000\">no</span> |\n",
       "|              4236 | The Golden Compass (His Dark Materials, #1)                                 |                0.91 | <span style=\"color: #ff0000\">no</span> |\n",
       "|             63844 | The Martian                                                                 |                0.91 | <span style=\"color: #ff0000\">no</span> |\n",
       "|             50867 | Me Before You (Me Before You, #1)                                           |                0.91 | <span style=\"color: #ff0000\">no</span> |\n",
       "|             19910 | The Graveyard Book                                                          |                0.91 | <span style=\"color: #ff0000\">no</span> |\n",
       "|              6406 | City of Bones (The Mortal Instruments, #1)                                  |                0.91 | <span style=\"color: #ff0000\">no</span> |\n",
       "|             51277 | Hopeless (Hopeless, #1)                                                     |                0.91 | <span style=\"color: #ff0000\">no</span> |\n",
       "|                17 | The Lord of the Rings (The Lord of the Rings, #1-3)                         |                0.91 | <span style=\"color: #ff0000\">no</span> |\n",
       "|             16340 | The Wise Man's Fear (The Kingkiller Chronicle, #2)                          |                0.91 | <span style=\"color: #ff0000\">no</span> |\n",
       "|               439 | A Feast for Crows (A Song of Ice and Fire, #4)                              |                0.91 | <span style=\"color: #ff0000\">no</span> |\n",
       "|               774 | Stardust                                                                    |                0.91 | <span style=\"color: #ff0000\">no</span> |\n",
       "|             19653 | The Battle of the Labyrinth (Percy Jackson and the Olympians, #4)           |                0.91 | <span style=\"color: #ff0000\">no</span> |\n",
       "|             18032 | City of Ashes (The Mortal Instruments, #2)                                  |                0.91 | <span style=\"color: #ff0000\">no</span> |\n",
       "|              7326 | Lover Unbound (Black Dagger Brotherhood, #5)                                |                0.91 | <span style=\"color: #ff0000\">no</span> |\n",
       "|             20111 | Frostbite (Vampire Academy, #2)                                             |                0.91 | <span style=\"color: #ff0000\">no</span> |\n",
       "|               790 | Dracula                                                                     |                0.91 | <span style=\"color: #ff0000\">no</span> |\n",
       "|               827 | A Wrinkle in Time (A Wrinkle in Time Quintet, #1)                           |                0.91 | <span style=\"color: #ff0000\">no</span> |\n",
       "|               343 | A Clash of Kings  (A Song of Ice and Fire, #2)                              |                0.91 | <span style=\"color: #ff0000\">no</span> |\n",
       "|             21253 | Shadow Kiss (Vampire Academy, #3)                                           |                0.91 | <span style=\"color: #ff0000\">no</span> |\n",
       "|             10650 | The Titan's Curse (Percy Jackson and the Olympians, #3)                     |                0.91 | <span style=\"color: #ff0000\">no</span> |\n",
       "|               357 | The Chronicles of Narnia (Chronicles of Narnia, #1-7)                       |                0.9  | <span style=\"color: #ff0000\">no</span> |\n",
       "|              2324 | The Truth About Forever                                                     |                0.9  | <span style=\"color: #ff0000\">no</span> |\n",
       "|              2325 | Just Listen                                                                 |                0.9  | <span style=\"color: #ff0000\">no</span> |\n",
       "|               421 | Alice in Wonderland                                                         |                0.9  | <span style=\"color: #ff0000\">no</span> |\n",
       "|             55697 | The Coincidence of Callie & Kayden (The Coincidence, #1)                    |                0.9  | <span style=\"color: #ff0000\">no</span> |\n",
       "|               385 | 'Salem's Lot                                                                |                0.9  | <span style=\"color: #ff0000\">no</span> |\n",
       "|             48417 | Easy (Contours of the Heart, #1)                                            |                0.9  | <span style=\"color: #ff0000\">no</span> |\n",
       "|             37005 | Clockwork Prince (The Infernal Devices, #2)                                 |                0.9  | <span style=\"color: #ff0000\">no</span> |\n",
       "|               116 | American Gods (American Gods, #1)                                           |                0.9  | <span style=\"color: #ff0000\">no</span> |\n",
       "|              2722 | Guards! Guards! (Discworld, #8)                                             |                0.9  | <span style=\"color: #ff0000\">no</span> |\n",
       "|              2061 | Eldest (The Inheritance Cycle, #2)                                          |                0.9  | <span style=\"color: #ff0000\">no</span> |\n",
       "|              2765 | The Magician's Nephew (Chronicles of Narnia, #6)                            |                0.9  | <span style=\"color: #ff0000\">no</span> |\n",
       "|              2772 | The Silver Chair (Chronicles of Narnia, #4)                                 |                0.9  | <span style=\"color: #ff0000\">no</span> |\n",
       "|               104 | A Great and Terrible Beauty (Gemma Doyle, #1)                               |                0.9  | <span style=\"color: #ff0000\">no</span> |\n",
       "|             40064 | Cinder (The Lunar Chronicles, #1)                                           |                0.9  | <span style=\"color: #ff0000\">no</span> |\n",
       "|             42360 | The Mark of Athena (The Heroes of Olympus, #3)                              |                0.9  | <span style=\"color: #ff0000\">no</span> |\n",
       "|             52434 | The Ocean at the End of the Lane                                            |                0.9  | <span style=\"color: #ff0000\">no</span> |\n",
       "|              1750 | The Tale of Despereaux                                                      |                0.9  | <span style=\"color: #ff0000\">no</span> |\n",
       "|               828 | Romeo and Juliet                                                            |                0.9  | <span style=\"color: #ff0000\">no</span> |\n",
       "|              3261 | Dance with the Devil (Dark-Hunter #3)                                       |                0.9  | <span style=\"color: #ff0000\">no</span> |\n",
       "|             46665 | Slammed (Slammed, #1)                                                       |                0.9  | <span style=\"color: #ff0000\">no</span> |\n",
       "|               188 | Emma                                                                        |                0.9  | <span style=\"color: #ff0000\">no</span> |\n",
       "|             45747 | Because of Low (Sea Breeze, #2)                                             |                0.9  | <span style=\"color: #ff0000\">no</span> |\n",
       "|              1620 | The Color of Magic (Discworld, #1; Rincewind #1)                            |                0.9  | <span style=\"color: #ff0000\">no</span> |\n",
       "|             43572 | Obsidian (Lux, #1)                                                          |                0.9  | <span style=\"color: #ff0000\">no</span> |\n",
       "|             42110 | I've Got Your Number                                                        |                0.9  | <span style=\"color: #ff0000\">no</span> |\n",
       "|              1935 | Something Blue (Darcy & Rachel, #2)                                         |                0.9  | <span style=\"color: #ff0000\">no</span> |\n",
       "|               536 | The Fires of Heaven (Wheel of Time, #5)                                     |                0.9  | <span style=\"color: #ff0000\">no</span> |\n",
       "|               517 | Alanna: The First Adventure (Song of the Lioness, #1)                       |                0.9  | <span style=\"color: #ff0000\">no</span> |\n",
       "|             47645 | Point of Retreat (Slammed, #2)                                              |                0.9  | <span style=\"color: #ff0000\">no</span> |\n",
       "|               202 | Do Androids Dream of Electric Sheep?                                        |                0.9  | <span style=\"color: #ff0000\">no</span> |\n",
       "|             52024 | On Dublin Street (On Dublin Street, #1)                                     |                0.9  | <span style=\"color: #ff0000\">no</span> |\n",
       "|             33338 | Lover Unleashed (Black Dagger Brotherhood, #9)                              |                0.9  | <span style=\"color: #ff0000\">no</span> |\n",
       "|               316 | The Shadow Rising (Wheel of Time, #4)                                       |                0.9  | <span style=\"color: #ff0000\">no</span> |\n",
       "|                54 | A Midsummer Night's Dream                                                   |                0.9  | <span style=\"color: #ff0000\">no</span> |\n",
       "|                37 | The Phantom Tollbooth                                                       |                0.9  | <span style=\"color: #ff0000\">no</span> |\n",
       "|             22961 | City of Glass (The Mortal Instruments, #3)                                  |                0.9  | <span style=\"color: #ff0000\">no</span> |\n",
       "|                72 | Anansi Boys                                                                 |                0.9  | <span style=\"color: #ff0000\">no</span> |\n",
       "|             28469 | This Side of the Grave (Night Huntress, #5)                                 |                0.9  | <span style=\"color: #ff0000\">no</span> |\n",
       "|             28165 | City of Fallen Angels (The Mortal Instruments, #4)                          |                0.9  | <span style=\"color: #ff0000\">no</span> |\n",
       "|             29096 | Lover Mine (Black Dagger Brotherhood, #8)                                   |                0.9  | <span style=\"color: #ff0000\">no</span> |\n",
       "|                68 | Persuasion                                                                  |                0.9  | <span style=\"color: #ff0000\">no</span> |"
      ],
      "text/plain": [
       "<IPython.core.display.Markdown object>"
      ]
     },
     "metadata": {},
     "output_type": "display_data"
    }
   ],
   "source": [
    "tmp_df = None\n",
    "# indices = testset.get_user_record()\n",
    "print(testset[indices[0]][0])\n",
    "user_ids = testset[indices[0]][0].repeat(book_titles_df.shape[0])\n",
    "item_ids = torch.LongTensor(book_titles_df.index.values)\n",
    "\n",
    "with torch.no_grad():\n",
    "    user_ids, item_ids = user_ids.to(device), item_ids.to(device)\n",
    "    predictions = model(user_ids, item_ids)\n",
    "\n",
    "    # tmp_df = pd.DataFrame(index=item_ids.numpy(), columns=['book_id', 'title', 'predicted_ratings'])\n",
    "    tmp_df = book_titles_df.copy()\n",
    "    tmp_df['predicted_ratings'] = predictions.cpu().round(decimals=2) * max_range\n",
    "    tmp_df.sort_values(by=['predicted_ratings'], ascending=False, inplace=True)\n",
    "    tmp_df = tmp_df.loc[tmp_df['title'].notna()]\n",
    "    tmp_df['read?'] = '<span style=\"color: #ff0000\">no</span>'\n",
    "    \n",
    "\n",
    "    for user_ids, item_ids, labels in sampleloader:\n",
    "        tmp_df[labels.nonzero().squeeze(dim=1), 'read?'] = '<span style=\"color: #00ff00\">yes</span>'\n",
    "\n",
    "    display(Markdown(tmp_df[['title', 'predicted_ratings', 'read?']].head(100).to_markdown()))"
   ]
  }
 ],
 "metadata": {
  "kernelspec": {
   "display_name": "mlops_projs",
   "language": "python",
   "name": "python3"
  },
  "language_info": {
   "codemirror_mode": {
    "name": "ipython",
    "version": 3
   },
   "file_extension": ".py",
   "mimetype": "text/x-python",
   "name": "python",
   "nbconvert_exporter": "python",
   "pygments_lexer": "ipython3",
   "version": "3.8.15"
  },
  "orig_nbformat": 4,
  "vscode": {
   "interpreter": {
    "hash": "6277b8e4cbea501f918295b3c89da8b864a762da66687248877e66d072dbe1c4"
   }
  }
 },
 "nbformat": 4,
 "nbformat_minor": 2
}
