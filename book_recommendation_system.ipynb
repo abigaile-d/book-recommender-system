{
 "cells": [
  {
   "cell_type": "code",
   "execution_count": 14,
   "metadata": {},
   "outputs": [],
   "source": [
    "import os\n",
    "\n",
    "import torch\n",
    "import torch.nn as nn\n",
    "\n",
    "import data"
   ]
  },
  {
   "cell_type": "code",
   "execution_count": 15,
   "metadata": {},
   "outputs": [],
   "source": [
    "# configurable parameters, change as needed\n",
    "\n",
    "# set to true if loading existing model file, false if training a new model\n",
    "skip_training = True\n",
    "data_dir = 'data'\n",
    "model_save_path = 'models/goodreads_recsys.pth'"
   ]
  },
  {
   "cell_type": "code",
   "execution_count": 16,
   "metadata": {},
   "outputs": [],
   "source": [
    "# create dirs if not existing\n",
    "os.makedirs(data_dir, exist_ok=True)\n",
    "os.makedirs('models', exist_ok=True)"
   ]
  },
  {
   "cell_type": "code",
   "execution_count": 17,
   "metadata": {},
   "outputs": [
    {
     "name": "stdout",
     "output_type": "stream",
     "text": [
      "Using device type: cpu\n"
     ]
    }
   ],
   "source": [
    "# additional settings, automatically selects cuda if available\n",
    "if skip_training:\n",
    "    device_type = 'cpu'\n",
    "elif torch.cuda.is_available():\n",
    "    device_type = 'cuda:0'\n",
    "else:\n",
    "    device_type = 'cpu'\n",
    "\n",
    "# set manually if needed e.g. device_type = 'cpu'\n",
    "print(\"Using device type:\", device_type)\n",
    "device = torch.device(device_type)"
   ]
  },
  {
   "cell_type": "code",
   "execution_count": 18,
   "metadata": {},
   "outputs": [
    {
     "name": "stdout",
     "output_type": "stream",
     "text": [
      "Dataset: train, User count: 24405, Book count: 84384, Ratings count: 981953\n",
      "Dataset: test, User count: 22198, Book count: 48501, Ratings count: 426139\n"
     ]
    }
   ],
   "source": [
    "trainset = data.GoodReadsRatingsDataset(root=data_dir, mode='train')\n",
    "testset = data.GoodReadsRatingsDataset(root=data_dir, mode='test')"
   ]
  },
  {
   "cell_type": "code",
   "execution_count": 19,
   "metadata": {},
   "outputs": [],
   "source": [
    "trainloader = torch.utils.data.DataLoader(trainset, batch_size=1014, shuffle=True)\n",
    "testloader = torch.utils.data.DataLoader(testset, batch_size=128, shuffle=False)"
   ]
  },
  {
   "cell_type": "code",
   "execution_count": 20,
   "metadata": {},
   "outputs": [],
   "source": [
    "class RecommenderSystem(nn.Module):\n",
    "    def __init__(self, n_users, n_items):\n",
    "        \"\"\"\n",
    "        Args:\n",
    "          n_users: Number of users.\n",
    "          n_items: Number of items.\n",
    "        \"\"\"\n",
    "        super(RecommenderSystem, self).__init__()\n",
    "\n",
    "        self.user_em = nn.Embedding(n_users, 100)\n",
    "        self.item_em = nn.Embedding(n_items, 100)\n",
    "        self.drop0 = nn.Dropout(0.02)\n",
    "        \n",
    "        self.fc1 = nn.Linear(200, 100)\n",
    "        self.relu1 = nn.ReLU()\n",
    "        self.drop1 = nn.Dropout(0.02)\n",
    "        \n",
    "        self.fc2 = nn.Linear(100, 10)\n",
    "        self.relu2 = nn.ReLU()\n",
    "        self.drop2 = nn.Dropout(0.02)\n",
    "        \n",
    "        self.fc3 = nn.Linear(10, 1)\n",
    "        \n",
    "    def forward(self, user_ids, item_ids):\n",
    "        \"\"\"\n",
    "        Args:\n",
    "          user_ids of shape (batch_size): User ids (starting from 0).\n",
    "          item_ids of shape (batch_size): Item ids (starting from 0).\n",
    "        \n",
    "        Returns:\n",
    "          outputs of shape (batch_size): Predictions of ratings.\n",
    "        \"\"\"\n",
    "        x = torch.cat([self.user_em(user_ids), self.item_em(item_ids)], dim=1)\n",
    "        x = self.drop0(x)\n",
    "\n",
    "        x = self.fc1(x)\n",
    "        x = self.relu1(x)\n",
    "        x = self.drop1(x)\n",
    "\n",
    "        x = self.fc2(x)\n",
    "        x = self.relu2(x)\n",
    "        x = self.drop2(x)\n",
    "\n",
    "        x = torch.sigmoid(self.fc3(x))\n",
    "        min_rating, max_rating = (0.5, 5.5)\n",
    "        x = x*(max_rating - min_rating) + min_rating\n",
    "        x = x.view(-1)\n",
    "        \n",
    "        return x"
   ]
  },
  {
   "cell_type": "code",
   "execution_count": 21,
   "metadata": {},
   "outputs": [
    {
     "data": {
      "text/plain": [
       "RecommenderSystem(\n",
       "  (user_em): Embedding(24405, 100)\n",
       "  (item_em): Embedding(84384, 100)\n",
       "  (drop0): Dropout(p=0.02, inplace=False)\n",
       "  (fc1): Linear(in_features=200, out_features=100, bias=True)\n",
       "  (relu1): ReLU()\n",
       "  (drop1): Dropout(p=0.02, inplace=False)\n",
       "  (fc2): Linear(in_features=100, out_features=10, bias=True)\n",
       "  (relu2): ReLU()\n",
       "  (drop2): Dropout(p=0.02, inplace=False)\n",
       "  (fc3): Linear(in_features=10, out_features=1, bias=True)\n",
       ")"
      ]
     },
     "execution_count": 21,
     "metadata": {},
     "output_type": "execute_result"
    }
   ],
   "source": [
    "model = RecommenderSystem(trainset.n_users, trainset.n_items)\n",
    "model.to(device)"
   ]
  },
  {
   "cell_type": "code",
   "execution_count": 22,
   "metadata": {},
   "outputs": [],
   "source": [
    "# computes the loss:\n",
    "def compute_loss(model, testloader):\n",
    "    model.eval()\n",
    "    cost = nn.MSELoss()\n",
    "    total_loss = 0\n",
    "    total_data = 0\n",
    "\n",
    "    with torch.no_grad():\n",
    "        for user_ids, item_ids, labels in testloader:\n",
    "            user_ids, item_ids, labels = user_ids.to(device), item_ids.to(device), labels.to(device)\n",
    "            predictions = model(user_ids, item_ids)\n",
    "\n",
    "            loss = cost(predictions, labels)\n",
    "            total_loss += (loss.item() * labels.size(0))\n",
    "            total_data += labels.size(0)\n",
    "\n",
    "    loss = total_loss / total_data\n",
    "    return loss"
   ]
  },
  {
   "cell_type": "code",
   "execution_count": 23,
   "metadata": {},
   "outputs": [],
   "source": [
    "# training loop\n",
    "if not skip_training:\n",
    "    optimizer = torch.optim.Adam(model.parameters(), lr=0.001, weight_decay=0.001)\n",
    "    cost = nn.MSELoss()\n",
    "    total_loss = 0\n",
    "    total_data = 0\n",
    "\n",
    "    # save historical losses and accs\n",
    "    hist_metrics = dict()\n",
    "    hist_metrics['epoch'] = []\n",
    "    hist_metrics['train_loss'] = []\n",
    "    hist_metrics['test_loss'] = []\n",
    "\n",
    "    epochs = 20\n",
    "    for epoch in range(epochs):\n",
    "        model.train()\n",
    "        for user_ids, item_ids, labels in trainloader:  \n",
    "            user_ids, item_ids, labels = user_ids.to(device), item_ids.to(device), labels.to(device)\n",
    "\n",
    "            optimizer.zero_grad()\n",
    "            predictions = model(user_ids, item_ids)\n",
    "\n",
    "            loss = cost(predictions, labels)\n",
    "            total_loss += (loss.item() * labels.size(0))\n",
    "            total_data += labels.size(0)\n",
    "            loss.backward()\n",
    "            optimizer.step()\n",
    "\n",
    "        train_loss = total_loss / total_data\n",
    "        test_loss = compute_loss(model, testloader)\n",
    "\n",
    "        hist_metrics['epoch'].append(epoch)\n",
    "        hist_metrics['train_loss'].append(train_loss)\n",
    "        hist_metrics['test_loss'].append(test_loss)\n",
    "\n",
    "        print('Epoch {}: Train error: {:.4f}, Test error: {:.4f}'.format(epoch, train_loss, test_loss))"
   ]
  },
  {
   "cell_type": "code",
   "execution_count": 24,
   "metadata": {},
   "outputs": [],
   "source": [
    "# save trained model\n",
    "if not skip_training:\n",
    "    torch.save(model.state_dict(), model_save_path)\n",
    "    print(hist_metrics)"
   ]
  },
  {
   "cell_type": "code",
   "execution_count": 25,
   "metadata": {},
   "outputs": [
    {
     "name": "stdout",
     "output_type": "stream",
     "text": [
      "Model loaded from: models/goodreads_recsys.pth\n"
     ]
    }
   ],
   "source": [
    "if skip_training:\n",
    "    model = RecommenderSystem(trainset.n_users, trainset.n_items)\n",
    "    model.load_state_dict(torch.load(model_save_path, map_location=lambda storage, loc: storage))\n",
    "    print('Model loaded from: {}'.format(model_save_path))\n",
    "    model.to(device)\n",
    "    model.eval()"
   ]
  },
  {
   "cell_type": "code",
   "execution_count": 26,
   "metadata": {},
   "outputs": [
    {
     "name": "stdout",
     "output_type": "stream",
     "text": [
      "Test loss: 1.1492\n"
     ]
    }
   ],
   "source": [
    "loss = compute_loss(model, testloader)\n",
    "print('Test loss: {:.4f}'.format(loss))"
   ]
  }
 ],
 "metadata": {
  "kernelspec": {
   "display_name": "mlops_projs",
   "language": "python",
   "name": "python3"
  },
  "language_info": {
   "codemirror_mode": {
    "name": "ipython",
    "version": 3
   },
   "file_extension": ".py",
   "mimetype": "text/x-python",
   "name": "python",
   "nbconvert_exporter": "python",
   "pygments_lexer": "ipython3",
   "version": "3.8.15"
  },
  "orig_nbformat": 4,
  "vscode": {
   "interpreter": {
    "hash": "6277b8e4cbea501f918295b3c89da8b864a762da66687248877e66d072dbe1c4"
   }
  }
 },
 "nbformat": 4,
 "nbformat_minor": 2
}
